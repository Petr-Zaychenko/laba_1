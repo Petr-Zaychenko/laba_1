{
 "cells": [
  {
   "cell_type": "code",
   "execution_count": 4,
   "id": "7dc06cee",
   "metadata": {},
   "outputs": [
    {
     "name": "stdout",
     "output_type": "stream",
     "text": [
      "Defaulting to user installation because normal site-packages is not writeable\n",
      "Requirement already satisfied: xgboost in c:\\users\\петр\\appdata\\roaming\\python\\python311\\site-packages (3.0.0)\n",
      "Requirement already satisfied: scikit-learn in c:\\users\\петр\\appdata\\roaming\\python\\python311\\site-packages (1.6.1)\n",
      "Requirement already satisfied: joblib in c:\\users\\петр\\appdata\\roaming\\python\\python311\\site-packages (1.5.0)\n",
      "Requirement already satisfied: pandas in c:\\users\\петр\\appdata\\roaming\\python\\python311\\site-packages (2.2.3)\n",
      "Requirement already satisfied: numpy in c:\\users\\петр\\appdata\\roaming\\python\\python311\\site-packages (2.1.3)\n",
      "Requirement already satisfied: fastapi in c:\\users\\петр\\appdata\\roaming\\python\\python311\\site-packages (0.115.12)\n",
      "Requirement already satisfied: uvicorn in c:\\users\\петр\\appdata\\roaming\\python\\python311\\site-packages (0.34.2)\n",
      "Requirement already satisfied: pyngrok in c:\\users\\петр\\appdata\\roaming\\python\\python311\\site-packages (7.2.5)\n",
      "Requirement already satisfied: scipy in c:\\users\\петр\\appdata\\roaming\\python\\python311\\site-packages (from xgboost) (1.15.2)\n",
      "Requirement already satisfied: threadpoolctl>=3.1.0 in c:\\users\\петр\\appdata\\roaming\\python\\python311\\site-packages (from scikit-learn) (3.6.0)\n",
      "Requirement already satisfied: python-dateutil>=2.8.2 in c:\\users\\петр\\appdata\\roaming\\python\\python311\\site-packages (from pandas) (2.9.0.post0)\n",
      "Requirement already satisfied: pytz>=2020.1 in c:\\users\\петр\\appdata\\roaming\\python\\python311\\site-packages (from pandas) (2025.2)\n",
      "Requirement already satisfied: tzdata>=2022.7 in c:\\users\\петр\\appdata\\roaming\\python\\python311\\site-packages (from pandas) (2025.2)\n",
      "Requirement already satisfied: starlette<0.47.0,>=0.40.0 in c:\\users\\петр\\appdata\\roaming\\python\\python311\\site-packages (from fastapi) (0.46.2)\n",
      "Requirement already satisfied: pydantic!=1.8,!=1.8.1,!=2.0.0,!=2.0.1,!=2.1.0,<3.0.0,>=1.7.4 in c:\\users\\петр\\appdata\\roaming\\python\\python311\\site-packages (from fastapi) (2.11.4)\n",
      "Requirement already satisfied: typing-extensions>=4.8.0 in c:\\users\\петр\\appdata\\roaming\\python\\python311\\site-packages (from fastapi) (4.13.2)\n",
      "Requirement already satisfied: click>=7.0 in c:\\users\\петр\\appdata\\roaming\\python\\python311\\site-packages (from uvicorn) (8.1.8)\n",
      "Requirement already satisfied: h11>=0.8 in c:\\users\\петр\\appdata\\roaming\\python\\python311\\site-packages (from uvicorn) (0.16.0)\n",
      "Requirement already satisfied: PyYAML>=5.1 in c:\\users\\петр\\appdata\\roaming\\python\\python311\\site-packages (from pyngrok) (6.0.2)\n",
      "Requirement already satisfied: colorama in c:\\users\\петр\\appdata\\roaming\\python\\python311\\site-packages (from click>=7.0->uvicorn) (0.4.6)\n",
      "Requirement already satisfied: annotated-types>=0.6.0 in c:\\users\\петр\\appdata\\roaming\\python\\python311\\site-packages (from pydantic!=1.8,!=1.8.1,!=2.0.0,!=2.0.1,!=2.1.0,<3.0.0,>=1.7.4->fastapi) (0.7.0)\n",
      "Requirement already satisfied: pydantic-core==2.33.2 in c:\\users\\петр\\appdata\\roaming\\python\\python311\\site-packages (from pydantic!=1.8,!=1.8.1,!=2.0.0,!=2.0.1,!=2.1.0,<3.0.0,>=1.7.4->fastapi) (2.33.2)\n",
      "Requirement already satisfied: typing-inspection>=0.4.0 in c:\\users\\петр\\appdata\\roaming\\python\\python311\\site-packages (from pydantic!=1.8,!=1.8.1,!=2.0.0,!=2.0.1,!=2.1.0,<3.0.0,>=1.7.4->fastapi) (0.4.0)\n",
      "Requirement already satisfied: six>=1.5 in c:\\users\\петр\\appdata\\roaming\\python\\python311\\site-packages (from python-dateutil>=2.8.2->pandas) (1.17.0)\n",
      "Requirement already satisfied: anyio<5,>=3.6.2 in c:\\users\\петр\\appdata\\roaming\\python\\python311\\site-packages (from starlette<0.47.0,>=0.40.0->fastapi) (4.9.0)\n",
      "Requirement already satisfied: idna>=2.8 in c:\\users\\петр\\appdata\\roaming\\python\\python311\\site-packages (from anyio<5,>=3.6.2->starlette<0.47.0,>=0.40.0->fastapi) (3.10)\n",
      "Requirement already satisfied: sniffio>=1.1 in c:\\users\\петр\\appdata\\roaming\\python\\python311\\site-packages (from anyio<5,>=3.6.2->starlette<0.47.0,>=0.40.0->fastapi) (1.3.1)\n",
      "Note: you may need to restart the kernel to use updated packages.\n"
     ]
    },
    {
     "name": "stderr",
     "output_type": "stream",
     "text": [
      "\n",
      "[notice] A new release of pip is available: 24.0 -> 25.1.1\n",
      "[notice] To update, run: python.exe -m pip install --upgrade pip\n"
     ]
    }
   ],
   "source": [
    "%pip install xgboost scikit-learn joblib pandas numpy fastapi uvicorn pyngrok"
   ]
  },
  {
   "cell_type": "code",
   "execution_count": 28,
   "id": "c468785e",
   "metadata": {},
   "outputs": [],
   "source": [
    "file_path = 'data/Laptop_price.csv'"
   ]
  },
  {
   "cell_type": "code",
   "execution_count": 29,
   "id": "edabb28d",
   "metadata": {},
   "outputs": [],
   "source": [
    "import pandas as pd\n",
    "from sklearn.model_selection import train_test_split\n",
    "\n",
    "file_path = 'data/Laptop_price.csv'\n",
    "df = pd.read_csv(file_path)\n",
    "X = df.drop(columns=['Price'])\n",
    "y = df['Price']\n",
    "X_train, X_test, y_train, y_test = train_test_split(X, y, test_size=0.2, random_state=42)"
   ]
  },
  {
   "cell_type": "code",
   "execution_count": 30,
   "id": "32b1a337",
   "metadata": {},
   "outputs": [
    {
     "data": {
      "text/plain": [
       "['data/laptop_price_model.pkl']"
      ]
     },
     "execution_count": 30,
     "metadata": {},
     "output_type": "execute_result"
    }
   ],
   "source": [
    "from sklearn.pipeline import Pipeline\n",
    "from sklearn.compose import ColumnTransformer\n",
    "from sklearn.preprocessing import StandardScaler, OneHotEncoder\n",
    "from sklearn.impute import SimpleImputer\n",
    "from xgboost import XGBRegressor\n",
    "import joblib\n",
    "\n",
    "# Определение числовых и категориальных признаков\n",
    "num_features = X.select_dtypes(include=['int64', 'float64']).columns.tolist()\n",
    "cat_features = X.select_dtypes(include=['object']).columns.tolist()\n",
    "\n",
    "# Трансформеры для числовых и категориальных данных\n",
    "num_transformer = Pipeline([\n",
    "    ('imputer', SimpleImputer(strategy='median')),\n",
    "    ('scaler', StandardScaler())\n",
    "])\n",
    "\n",
    "cat_transformer = Pipeline([\n",
    "    ('imputer', SimpleImputer(strategy='most_frequent')),\n",
    "    ('encoder', OneHotEncoder(handle_unknown='ignore'))\n",
    "])\n",
    "\n",
    "# Объединение трансформеров\n",
    "preprocessor = ColumnTransformer([\n",
    "    ('num', num_transformer, num_features),\n",
    "    ('cat', cat_transformer, cat_features)\n",
    "])\n",
    "\n",
    "# Финальный пайплайн с моделью XGBoost\n",
    "pipeline = Pipeline([\n",
    "    ('preprocessor', preprocessor),\n",
    "    ('model', XGBRegressor(n_estimators=100, learning_rate=0.1, max_depth=5))\n",
    "])\n",
    "\n",
    "# Обучение и сохранение модели\n",
    "pipeline.fit(X_train, y_train)\n",
    "joblib.dump(pipeline, 'data/laptop_price_model.pkl')"
   ]
  },
  {
   "cell_type": "markdown",
   "id": "9fdae18c",
   "metadata": {},
   "source": [
    "# GIT"
   ]
  },
  {
   "cell_type": "markdown",
   "id": "ceb9753e",
   "metadata": {},
   "source": [
    "#### Инициализировал и всю работу проводил в терминале. \n"
   ]
  },
  {
   "attachments": {
    "image.png": {
     "image/png": "[encoded data removed]"
    }
   },
   "cell_type": "markdown",
   "id": "9bba9323",
   "metadata": {},
   "source": [
    "![image.png](attachment:image.png)\n"
   ]
  },
  {
   "cell_type": "markdown",
   "id": "22f1f863",
   "metadata": {},
   "source": [
    "# FastApi\n"
   ]
  },
  {
   "cell_type": "markdown",
   "id": "309423e2",
   "metadata": {},
   "source": []
  },
  {
   "cell_type": "code",
   "execution_count": 31,
   "id": "6ca52d9b",
   "metadata": {},
   "outputs": [
    {
     "name": "stdout",
     "output_type": "stream",
     "text": [
      "Defaulting to user installation because normal site-packages is not writeable\n",
      "Requirement already satisfied: python-multipart in c:\\users\\петр\\appdata\\roaming\\python\\python311\\site-packages (0.0.20)\n",
      "Note: you may need to restart the kernel to use updated packages.\n"
     ]
    },
    {
     "name": "stderr",
     "output_type": "stream",
     "text": [
      "\n",
      "[notice] A new release of pip is available: 24.0 -> 25.1.1\n",
      "[notice] To update, run: python.exe -m pip install --upgrade pip\n"
     ]
    }
   ],
   "source": [
    "pip install python-multipart"
   ]
  },
  {
   "cell_type": "markdown",
   "id": "8c6e058e",
   "metadata": {},
   "source": []
  },
  {
   "cell_type": "code",
   "execution_count": 36,
   "id": "8507dff1",
   "metadata": {},
   "outputs": [],
   "source": [
    "from fastapi import FastAPI, File, UploadFile\n",
    "import pandas as pd\n",
    "import joblib\n",
    "from io import BytesIO\n",
    "\n",
    "app = FastAPI()\n",
    "model_path = \"data/laptop_price_model.pkl\"\n",
    "model = joblib.load(model_path)\n",
    "\n",
    "@app.post(\"/predict/\")\n",
    "async def predict(file: UploadFile = File(...)):\n",
    "    content = await file.read()\n",
    "    df = pd.read_csv(BytesIO(content))\n",
    "    predictions = model.predict(df)\n",
    "    return {\"predictions\": predictions.tolist()}"
   ]
  },
  {
   "cell_type": "markdown",
   "id": "0f874633",
   "metadata": {},
   "source": []
  },
  {
   "cell_type": "code",
   "execution_count": 33,
   "id": "7057b186",
   "metadata": {},
   "outputs": [
    {
     "name": "stdout",
     "output_type": "stream",
     "text": [
      "Authtoken saved to configuration file: C:\\Users\\Петр\\AppData\\Local/ngrok/ngrok.yml\n"
     ]
    }
   ],
   "source": [
    "!ngrok config add-authtoken 2wd5cydMgehF5yut5Zvk1JmccHi_4NcqEwFGqnpbeYm2H6YuC"
   ]
  },
  {
   "cell_type": "code",
   "execution_count": 34,
   "id": "7dc59151",
   "metadata": {},
   "outputs": [],
   "source": [
    "import subprocess\n",
    "from threading import Thread\n",
    "\n",
    "def run_fastapi():\n",
    "    subprocess.run([\"uvicorn\", \"app:app\", \"--host\", \"0.0.0.0\", \"--port\", \"8000\", \"--reload\"])\n",
    "\n",
    "Thread(target=run_fastapi, daemon=True).start()"
   ]
  },
  {
   "cell_type": "code",
   "execution_count": 35,
   "id": "f6962a51",
   "metadata": {},
   "outputs": [
    {
     "name": "stdout",
     "output_type": "stream",
     "text": [
      "Ваш API доступен по адресу: NgrokTunnel: \"https://e971-193-187-173-210.ngrok-free.app\" -> \"http://localhost:8000\"\n"
     ]
    }
   ],
   "source": [
    "from pyngrok import ngrok\n",
    "\n",
    "public_url = ngrok.connect(8000)\n",
    "print(\"Ваш API доступен по адресу:\", public_url)"
   ]
  }
 ],
 "metadata": {
  "kernelspec": {
   "display_name": "Python 3",
   "language": "python",
   "name": "python3"
  },
  "language_info": {
   "codemirror_mode": {
    "name": "ipython",
    "version": 3
   },
   "file_extension": ".py",
   "mimetype": "text/x-python",
   "name": "python",
   "nbconvert_exporter": "python",
   "pygments_lexer": "ipython3",
   "version": "3.11.9"
  }
 },
 "nbformat": 4,
 "nbformat_minor": 5
}
